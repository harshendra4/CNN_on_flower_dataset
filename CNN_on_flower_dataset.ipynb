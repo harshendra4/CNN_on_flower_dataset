{
 "cells": [
  {
   "cell_type": "markdown",
   "id": "dad6ad96",
   "metadata": {},
   "source": [
    "# Using data augmentation for increasing accuracy of our CNN model "
   ]
  },
  {
   "cell_type": "code",
   "execution_count": 44,
   "id": "04ff2b90",
   "metadata": {},
   "outputs": [],
   "source": [
    "import numpy as np\n",
    "import cv2\n",
    "import tensorflow as tf\n",
    "import PIL\n",
    "import matplotlib.pyplot as plt\n",
    "from tensorflow import keras \n",
    "from tensorflow.keras import layers\n",
    "from tensorflow.keras.models import Sequential"
   ]
  },
  {
   "cell_type": "markdown",
   "id": "e223f732",
   "metadata": {},
   "source": [
    "## Loading flower dataset "
   ]
  },
  {
   "cell_type": "code",
   "execution_count": 7,
   "id": "1ce648a1",
   "metadata": {},
   "outputs": [
    {
     "name": "stdout",
     "output_type": "stream",
     "text": [
      "Downloading data from https://storage.googleapis.com/download.tensorflow.org/example_images/flower_photos.tgz\n",
      "228813984/228813984 [==============================] - 153s 1us/step\n"
     ]
    }
   ],
   "source": [
    "dataset_url = \"https://storage.googleapis.com/download.tensorflow.org/example_images/flower_photos.tgz\"\n",
    "data_dir = tf.keras.utils.get_file('flower_photos', origin=dataset_url, cache_dir='.', untar=True)  # '.'--> current directory\n",
    "#'cache_dir'--> place where to store the loaded file. 'untar'--> since our file is a zip file, so to unzip we use this."
   ]
  },
  {
   "cell_type": "code",
   "execution_count": 8,
   "id": "8431c752",
   "metadata": {},
   "outputs": [
    {
     "data": {
      "text/plain": [
       "WindowsPath('datasets/flower_photos')"
      ]
     },
     "execution_count": 8,
     "metadata": {},
     "output_type": "execute_result"
    }
   ],
   "source": [
    "import pathlib           #will be helpful in performing operations(we'll covert image into numpy array) related to photos paths.\n",
    "data_dir = pathlib.Path(data_dir)\n",
    "data_dir"
   ]
  },
  {
   "cell_type": "code",
   "execution_count": 10,
   "id": "af0003e8",
   "metadata": {},
   "outputs": [
    {
     "data": {
      "text/plain": [
       "[WindowsPath('datasets/flower_photos/daisy/100080576_f52e8ee070_n.jpg'),\n",
       " WindowsPath('datasets/flower_photos/daisy/10140303196_b88d3d6cec.jpg'),\n",
       " WindowsPath('datasets/flower_photos/daisy/10172379554_b296050f82_n.jpg')]"
      ]
     },
     "execution_count": 10,
     "metadata": {},
     "output_type": "execute_result"
    }
   ],
   "source": [
    "list(data_dir.glob('*/*.jpg'))[:3]"
   ]
  },
  {
   "cell_type": "code",
   "execution_count": 11,
   "id": "4f43fc15",
   "metadata": {},
   "outputs": [
    {
     "data": {
      "text/plain": [
       "3670"
      ]
     },
     "execution_count": 11,
     "metadata": {},
     "output_type": "execute_result"
    }
   ],
   "source": [
    "len(list(data_dir.glob('*/*.jpg')))    #total photos count"
   ]
  },
  {
   "cell_type": "code",
   "execution_count": 13,
   "id": "1ad6ac5a",
   "metadata": {},
   "outputs": [
    {
     "data": {
      "text/plain": [
       "633"
      ]
     },
     "execution_count": 13,
     "metadata": {},
     "output_type": "execute_result"
    }
   ],
   "source": [
    "Daisy = list(data_dir.glob('Daisy/*'))\n",
    "\n",
    "len(list(data_dir.glob('Daisy/*')))    #Daisy flower photos count"
   ]
  },
  {
   "cell_type": "code",
   "execution_count": 21,
   "id": "945b19ac",
   "metadata": {},
   "outputs": [],
   "source": [
    "from PIL import Image\n",
    "flower = PIL.Image.open(str(Daisy[1]))    # original size of flower is (500, 313)\n",
    "flower = flower.resize((100,100),Image.ANTIALIAS)"
   ]
  },
  {
   "cell_type": "code",
   "execution_count": 22,
   "id": "e250273f",
   "metadata": {},
   "outputs": [
    {
     "data": {
      "image/png": "[encoded data removed]",
      "text/plain": [
       "<PIL.Image.Image image mode=RGB size=100x100 at 0x22FA5C76B50>"
      ]
     },
     "execution_count": 22,
     "metadata": {},
     "output_type": "execute_result"
    }
   ],
   "source": [
    "flower"
   ]
  },
  {
   "cell_type": "markdown",
   "id": "2c495399",
   "metadata": {},
   "source": [
    "## Converting flower images into numpy array"
   ]
  },
  {
   "cell_type": "code",
   "execution_count": 25,
   "id": "751fa0a1",
   "metadata": {},
   "outputs": [],
   "source": [
    "flower_dict = {\n",
    "    'daisy' : list(data_dir.glob('Daisy/*')),\n",
    "    'dandelion' : list(data_dir.glob('dandelion/*')),\n",
    "    'roses' : list(data_dir.glob('roses/*')),\n",
    "    'sunflowers' : list(data_dir.glob('sunflowers/*')),\n",
    "    'tulips' : list(data_dir.glob('tulips/*'))\n",
    "}"
   ]
  },
  {
   "cell_type": "code",
   "execution_count": 26,
   "id": "e4769ef8",
   "metadata": {},
   "outputs": [],
   "source": [
    "flower_labels = {\n",
    "    'daisy' : 0,\n",
    "    'dandelion' : 1,\n",
    "    'roses' : 2,\n",
    "    'sunflowers' : 3,\n",
    "    'tulips' : 4\n",
    "}"
   ]
  },
  {
   "cell_type": "code",
   "execution_count": 27,
   "id": "89f50cb0",
   "metadata": {},
   "outputs": [
    {
     "data": {
      "text/plain": [
       "[WindowsPath('datasets/flower_photos/Daisy/100080576_f52e8ee070_n.jpg'),\n",
       " WindowsPath('datasets/flower_photos/Daisy/10140303196_b88d3d6cec.jpg'),\n",
       " WindowsPath('datasets/flower_photos/Daisy/10172379554_b296050f82_n.jpg')]"
      ]
     },
     "execution_count": 27,
     "metadata": {},
     "output_type": "execute_result"
    }
   ],
   "source": [
    "flower_dict['daisy'][:3]"
   ]
  },
  {
   "cell_type": "code",
   "execution_count": 30,
   "id": "96946984",
   "metadata": {},
   "outputs": [
    {
     "data": {
      "text/plain": [
       "\"[WindowsPath('datasets/flower_photos/Daisy/100080576_f52e8ee070_n.jpg'), WindowsPath('datasets/flower_photos/Daisy/10140303196_b88d3d6cec.jpg'), WindowsPath('datasets/flower_photos/Daisy/10172379554_b296050f82_n.jpg')]\""
      ]
     },
     "execution_count": 30,
     "metadata": {},
     "output_type": "execute_result"
    }
   ],
   "source": [
    "str(flower_dict['daisy'][:3])"
   ]
  },
  {
   "cell_type": "code",
   "execution_count": 32,
   "id": "4c71007d",
   "metadata": {},
   "outputs": [
    {
     "data": {
      "text/plain": [
       "(240, 179, 3)"
      ]
     },
     "execution_count": 32,
     "metadata": {},
     "output_type": "execute_result"
    }
   ],
   "source": [
    "img = cv2.imread(str(flower_dict['roses'][0]))\n",
    "img.shape"
   ]
  },
  {
   "cell_type": "code",
   "execution_count": 48,
   "id": "3ff406eb",
   "metadata": {},
   "outputs": [
    {
     "data": {
      "text/plain": [
       "(180, 180, 3)"
      ]
     },
     "execution_count": 48,
     "metadata": {},
     "output_type": "execute_result"
    }
   ],
   "source": [
    "cv2.resize(img,(180,180)).shape"
   ]
  },
  {
   "cell_type": "code",
   "execution_count": 51,
   "id": "d2121aa5",
   "metadata": {},
   "outputs": [],
   "source": [
    "X, y = [],[]\n",
    "\n",
    "for flower_name, images in flower_dict.items():\n",
    "    for image in images:\n",
    "        img = cv2.imread(str(image))\n",
    "        resized_img = cv2.resize(img,(180,180))\n",
    "        X.append(resized_img)\n",
    "        y.append(flower_labels[flower_name])"
   ]
  },
  {
   "cell_type": "code",
   "execution_count": 52,
   "id": "d82bb54e",
   "metadata": {},
   "outputs": [],
   "source": [
    "X = np.array(X)\n",
    "y = np.array(y)"
   ]
  },
  {
   "cell_type": "markdown",
   "id": "0c2f59bf",
   "metadata": {},
   "source": [
    "## Splitting data"
   ]
  },
  {
   "cell_type": "code",
   "execution_count": 61,
   "id": "4458c71e",
   "metadata": {},
   "outputs": [],
   "source": [
    "from sklearn.model_selection import train_test_split\n",
    "X_train, X_test, y_train, y_test = train_test_split(X, y, test_size=0.3, random_state=0)"
   ]
  },
  {
   "cell_type": "code",
   "execution_count": 62,
   "id": "81fc8ac5",
   "metadata": {},
   "outputs": [
    {
     "data": {
      "text/plain": [
       "array([[[ 92, 148, 183],\n",
       "        [ 87, 148, 183],\n",
       "        [ 82, 150, 185],\n",
       "        ...,\n",
       "        [ 30,  62,  76],\n",
       "        [ 28,  62,  77],\n",
       "        [ 32,  66,  81]],\n",
       "\n",
       "       [[ 90, 146, 181],\n",
       "        [ 85, 146, 181],\n",
       "        [ 81, 147, 184],\n",
       "        ...,\n",
       "        [ 30,  62,  75],\n",
       "        [ 27,  61,  76],\n",
       "        [ 29,  63,  78]],\n",
       "\n",
       "       [[ 87, 143, 178],\n",
       "        [ 82, 142, 179],\n",
       "        [ 79, 144, 183],\n",
       "        ...,\n",
       "        [ 29,  63,  76],\n",
       "        [ 29,  62,  76],\n",
       "        [ 29,  63,  78]],\n",
       "\n",
       "       ...,\n",
       "\n",
       "       [[ 31,  66,  72],\n",
       "        [ 30,  66,  72],\n",
       "        [ 30,  68,  73],\n",
       "        ...,\n",
       "        [ 25,  59,  59],\n",
       "        [ 25,  57,  61],\n",
       "        [ 27,  59,  64]],\n",
       "\n",
       "       [[ 31,  67,  73],\n",
       "        [ 31,  68,  73],\n",
       "        [ 30,  68,  73],\n",
       "        ...,\n",
       "        [ 27,  61,  62],\n",
       "        [ 27,  60,  64],\n",
       "        [ 29,  61,  67]],\n",
       "\n",
       "       [[ 32,  69,  75],\n",
       "        [ 31,  69,  74],\n",
       "        [ 31,  69,  74],\n",
       "        ...,\n",
       "        [ 29,  62,  63],\n",
       "        [ 28,  60,  65],\n",
       "        [ 29,  60,  68]]], dtype=uint8)"
      ]
     },
     "execution_count": 62,
     "metadata": {},
     "output_type": "execute_result"
    }
   ],
   "source": [
    "X_train[0] #Scaling required"
   ]
  },
  {
   "cell_type": "code",
   "execution_count": 63,
   "id": "07a5d36c",
   "metadata": {},
   "outputs": [],
   "source": [
    "X_train_scaled = X_train/255\n",
    "X_test_scaled = X_test/255"
   ]
  },
  {
   "cell_type": "markdown",
   "id": "f1bf7e9b",
   "metadata": {},
   "source": [
    "## Building Convolutional Network"
   ]
  },
  {
   "cell_type": "code",
   "execution_count": 64,
   "id": "478b5646",
   "metadata": {
    "scrolled": true
   },
   "outputs": [
    {
     "name": "stdout",
     "output_type": "stream",
     "text": [
      "Epoch 1/20\n",
      "81/81 [==============================] - 36s 402ms/step - loss: 1.3545 - accuracy: 0.4130\n",
      "Epoch 2/20\n",
      "81/81 [==============================] - 31s 384ms/step - loss: 0.9812 - accuracy: 0.6189\n",
      "Epoch 3/20\n",
      "81/81 [==============================] - 30s 373ms/step - loss: 0.8096 - accuracy: 0.6870\n",
      "Epoch 4/20\n",
      "81/81 [==============================] - 30s 373ms/step - loss: 0.5977 - accuracy: 0.7688\n",
      "Epoch 5/20\n",
      "81/81 [==============================] - 31s 377ms/step - loss: 0.4393 - accuracy: 0.8369\n",
      "Epoch 6/20\n",
      "81/81 [==============================] - 30s 376ms/step - loss: 0.2461 - accuracy: 0.9175\n",
      "Epoch 7/20\n",
      "81/81 [==============================] - 30s 374ms/step - loss: 0.1566 - accuracy: 0.9459\n",
      "Epoch 8/20\n",
      "81/81 [==============================] - 31s 379ms/step - loss: 0.0713 - accuracy: 0.9829\n",
      "Epoch 9/20\n",
      "81/81 [==============================] - 31s 380ms/step - loss: 0.0406 - accuracy: 0.9899\n",
      "Epoch 10/20\n",
      "81/81 [==============================] - 30s 376ms/step - loss: 0.0175 - accuracy: 0.9973\n",
      "Epoch 11/20\n",
      "81/81 [==============================] - 30s 376ms/step - loss: 0.0689 - accuracy: 0.9801\n",
      "Epoch 12/20\n",
      "81/81 [==============================] - 30s 375ms/step - loss: 0.0480 - accuracy: 0.9922\n",
      "Epoch 13/20\n",
      "81/81 [==============================] - 30s 374ms/step - loss: 0.0195 - accuracy: 0.9953\n",
      "Epoch 14/20\n",
      "81/81 [==============================] - 30s 373ms/step - loss: 0.0087 - accuracy: 0.9984\n",
      "Epoch 15/20\n",
      "81/81 [==============================] - 31s 379ms/step - loss: 0.0089 - accuracy: 0.9984\n",
      "Epoch 16/20\n",
      "81/81 [==============================] - 31s 378ms/step - loss: 0.0016 - accuracy: 1.0000\n",
      "Epoch 17/20\n",
      "81/81 [==============================] - 31s 378ms/step - loss: 8.3448e-04 - accuracy: 1.0000\n",
      "Epoch 18/20\n",
      "81/81 [==============================] - 31s 378ms/step - loss: 4.4408e-04 - accuracy: 1.0000\n",
      "Epoch 19/20\n",
      "81/81 [==============================] - 30s 373ms/step - loss: 3.3740e-04 - accuracy: 1.0000\n",
      "Epoch 20/20\n",
      "81/81 [==============================] - 31s 380ms/step - loss: 2.6423e-04 - accuracy: 1.0000\n"
     ]
    },
    {
     "data": {
      "text/plain": [
       "<keras.callbacks.History at 0x22fe7983b20>"
      ]
     },
     "execution_count": 64,
     "metadata": {},
     "output_type": "execute_result"
    }
   ],
   "source": [
    "num_classes = 5\n",
    "\n",
    "model = Sequential([\n",
    "    layers.Conv2D(16,3, padding='same', activation='relu'),\n",
    "    layers.MaxPooling2D(),\n",
    "    layers.Conv2D(32,3, padding='same', activation='relu'),\n",
    "    layers.MaxPooling2D(),\n",
    "    layers.Conv2D(64,3, padding='same', activation='relu'),\n",
    "    layers.MaxPooling2D(),\n",
    "    layers.Flatten(),\n",
    "    layers.Dense(128, activation='relu'),\n",
    "    layers.Dense(num_classes)\n",
    "])\n",
    "\n",
    "model.compile(optimizer='adam',\n",
    "             loss=tf.keras.losses.SparseCategoricalCrossentropy(from_logits=True),\n",
    "             metrics=['accuracy'])\n",
    "model.fit(X_train_scaled, y_train, epochs=20)"
   ]
  },
  {
   "cell_type": "code",
   "execution_count": 65,
   "id": "ca121f18",
   "metadata": {},
   "outputs": [
    {
     "name": "stdout",
     "output_type": "stream",
     "text": [
      "35/35 [==============================] - 4s 103ms/step - loss: 2.7742 - accuracy: 0.6440\n"
     ]
    },
    {
     "data": {
      "text/plain": [
       "[2.774249315261841, 0.6439600586891174]"
      ]
     },
     "execution_count": 65,
     "metadata": {},
     "output_type": "execute_result"
    }
   ],
   "source": [
    "model.evaluate(X_test_scaled, y_test)"
   ]
  },
  {
   "cell_type": "markdown",
   "id": "ccf54e8c",
   "metadata": {},
   "source": [
    "#### accuracy on training dataset is almost 100% and in test data 64%, data is overfitted on our model"
   ]
  },
  {
   "cell_type": "code",
   "execution_count": 66,
   "id": "4b1f7c9d",
   "metadata": {},
   "outputs": [
    {
     "name": "stdout",
     "output_type": "stream",
     "text": [
      "35/35 [==============================] - 4s 105ms/step\n"
     ]
    }
   ],
   "source": [
    "predictions = model.predict(X_test_scaled)"
   ]
  },
  {
   "cell_type": "code",
   "execution_count": 69,
   "id": "0804a84b",
   "metadata": {},
   "outputs": [
    {
     "data": {
      "text/plain": [
       "<tf.Tensor: shape=(5,), dtype=float32, numpy=\n",
       "array([9.9990237e-01, 5.5683042e-05, 4.1782743e-05, 4.7174240e-16,\n",
       "       6.8041800e-08], dtype=float32)>"
      ]
     },
     "execution_count": 69,
     "metadata": {},
     "output_type": "execute_result"
    }
   ],
   "source": [
    "score = tf.nn.softmax(predictions[1])\n",
    "score"
   ]
  },
  {
   "cell_type": "code",
   "execution_count": 70,
   "id": "3c6736d3",
   "metadata": {},
   "outputs": [
    {
     "data": {
      "text/plain": [
       "0"
      ]
     },
     "execution_count": 70,
     "metadata": {},
     "output_type": "execute_result"
    }
   ],
   "source": [
    "np.argmax(score) #daisy"
   ]
  },
  {
   "cell_type": "code",
   "execution_count": 72,
   "id": "2ce76e8d",
   "metadata": {},
   "outputs": [
    {
     "data": {
      "text/plain": [
       "0"
      ]
     },
     "execution_count": 72,
     "metadata": {},
     "output_type": "execute_result"
    }
   ],
   "source": [
    "y_test[1]"
   ]
  },
  {
   "cell_type": "markdown",
   "id": "793748f0",
   "metadata": {},
   "source": [
    "## Using Data augmentation for improving test score"
   ]
  },
  {
   "cell_type": "code",
   "execution_count": 74,
   "id": "0369a8d9",
   "metadata": {},
   "outputs": [
    {
     "name": "stdout",
     "output_type": "stream",
     "text": [
      "WARNING:tensorflow:Using a while_loop for converting RngReadAndSkip cause there is no registered converter for this op.\n",
      "WARNING:tensorflow:Using a while_loop for converting Bitcast cause there is no registered converter for this op.\n",
      "WARNING:tensorflow:Using a while_loop for converting Bitcast cause there is no registered converter for this op.\n",
      "WARNING:tensorflow:Using a while_loop for converting StatelessRandomUniformV2 cause there is no registered converter for this op.\n",
      "WARNING:tensorflow:Using a while_loop for converting ImageProjectiveTransformV3 cause there is no registered converter for this op.\n",
      "WARNING:tensorflow:Using a while_loop for converting RngReadAndSkip cause there is no registered converter for this op.\n",
      "WARNING:tensorflow:Using a while_loop for converting Bitcast cause there is no registered converter for this op.\n",
      "WARNING:tensorflow:Using a while_loop for converting Bitcast cause there is no registered converter for this op.\n",
      "WARNING:tensorflow:Using a while_loop for converting StatelessRandomUniformV2 cause there is no registered converter for this op.\n",
      "WARNING:tensorflow:Using a while_loop for converting ImageProjectiveTransformV3 cause there is no registered converter for this op.\n"
     ]
    }
   ],
   "source": [
    "data_augmentation = keras.Sequential(\n",
    "  [\n",
    "    layers.experimental.preprocessing.RandomFlip(\"horizontal\", \n",
    "                                                 input_shape=(180, \n",
    "                                                              180,\n",
    "                                                              3)),\n",
    "    layers.experimental.preprocessing.RandomRotation(0.1),\n",
    "    layers.experimental.preprocessing.RandomZoom(0.1),\n",
    "  ]\n",
    ")"
   ]
  },
  {
   "cell_type": "code",
   "execution_count": 75,
   "id": "4d091825",
   "metadata": {},
   "outputs": [
    {
     "data": {
      "text/plain": [
       "<matplotlib.image.AxesImage at 0x22fe7deb9d0>"
      ]
     },
     "execution_count": 75,
     "metadata": {},
     "output_type": "execute_result"
    },
    {
     "data": {
      "image/png": "[encoded data removed]",
      "text/plain": [
       "<Figure size 432x288 with 1 Axes>"
      ]
     },
     "metadata": {
      "needs_background": "light"
     },
     "output_type": "display_data"
    }
   ],
   "source": [
    "plt.axis('off')\n",
    "plt.imshow(X[0])  #Original image"
   ]
  },
  {
   "cell_type": "markdown",
   "id": "0930d3f2",
   "metadata": {},
   "source": [
    "plt.axis('off')\n",
    "plt.imshow(data_augmentation(X)[0].numpy()) #showing some error"
   ]
  },
  {
   "cell_type": "code",
   "execution_count": 79,
   "id": "dc81983e",
   "metadata": {
    "scrolled": true
   },
   "outputs": [
    {
     "name": "stdout",
     "output_type": "stream",
     "text": [
      "WARNING:tensorflow:Using a while_loop for converting RngReadAndSkip cause there is no registered converter for this op.\n",
      "WARNING:tensorflow:Using a while_loop for converting Bitcast cause there is no registered converter for this op.\n",
      "WARNING:tensorflow:Using a while_loop for converting Bitcast cause there is no registered converter for this op.\n",
      "WARNING:tensorflow:Using a while_loop for converting StatelessRandomUniformV2 cause there is no registered converter for this op.\n",
      "WARNING:tensorflow:Using a while_loop for converting ImageProjectiveTransformV3 cause there is no registered converter for this op.\n",
      "WARNING:tensorflow:Using a while_loop for converting RngReadAndSkip cause there is no registered converter for this op.\n",
      "WARNING:tensorflow:Using a while_loop for converting Bitcast cause there is no registered converter for this op.\n",
      "WARNING:tensorflow:Using a while_loop for converting Bitcast cause there is no registered converter for this op.\n",
      "WARNING:tensorflow:Using a while_loop for converting StatelessRandomUniformV2 cause there is no registered converter for this op.\n",
      "WARNING:tensorflow:Using a while_loop for converting ImageProjectiveTransformV3 cause there is no registered converter for this op.\n",
      "Epoch 1/20\n",
      "WARNING:tensorflow:Using a while_loop for converting RngReadAndSkip cause there is no registered converter for this op.\n",
      "WARNING:tensorflow:Using a while_loop for converting Bitcast cause there is no registered converter for this op.\n",
      "WARNING:tensorflow:Using a while_loop for converting Bitcast cause there is no registered converter for this op.\n",
      "WARNING:tensorflow:Using a while_loop for converting StatelessRandomUniformV2 cause there is no registered converter for this op.\n",
      "WARNING:tensorflow:Using a while_loop for converting ImageProjectiveTransformV3 cause there is no registered converter for this op.\n",
      "WARNING:tensorflow:Using a while_loop for converting RngReadAndSkip cause there is no registered converter for this op.\n",
      "WARNING:tensorflow:Using a while_loop for converting Bitcast cause there is no registered converter for this op.\n",
      "WARNING:tensorflow:Using a while_loop for converting Bitcast cause there is no registered converter for this op.\n",
      "WARNING:tensorflow:Using a while_loop for converting StatelessRandomUniformV2 cause there is no registered converter for this op.\n",
      "WARNING:tensorflow:Using a while_loop for converting ImageProjectiveTransformV3 cause there is no registered converter for this op.\n",
      "WARNING:tensorflow:Using a while_loop for converting RngReadAndSkip cause there is no registered converter for this op.\n",
      "WARNING:tensorflow:Using a while_loop for converting Bitcast cause there is no registered converter for this op.\n",
      "WARNING:tensorflow:Using a while_loop for converting Bitcast cause there is no registered converter for this op.\n",
      "WARNING:tensorflow:Using a while_loop for converting StatelessRandomUniformV2 cause there is no registered converter for this op.\n",
      "WARNING:tensorflow:Using a while_loop for converting ImageProjectiveTransformV3 cause there is no registered converter for this op.\n",
      "WARNING:tensorflow:Using a while_loop for converting RngReadAndSkip cause there is no registered converter for this op.\n",
      "WARNING:tensorflow:Using a while_loop for converting Bitcast cause there is no registered converter for this op.\n",
      "WARNING:tensorflow:Using a while_loop for converting Bitcast cause there is no registered converter for this op.\n",
      "WARNING:tensorflow:Using a while_loop for converting StatelessRandomUniformV2 cause there is no registered converter for this op.\n",
      "WARNING:tensorflow:Using a while_loop for converting ImageProjectiveTransformV3 cause there is no registered converter for this op.\n",
      "81/81 [==============================] - 41s 446ms/step - loss: 1.2657 - accuracy: 0.4737\n",
      "Epoch 2/20\n",
      "81/81 [==============================] - 38s 466ms/step - loss: 1.0494 - accuracy: 0.5866\n",
      "Epoch 3/20\n",
      "81/81 [==============================] - 38s 466ms/step - loss: 0.9576 - accuracy: 0.6220\n",
      "Epoch 4/20\n",
      "81/81 [==============================] - 37s 454ms/step - loss: 0.8662 - accuracy: 0.6598\n",
      "Epoch 5/20\n",
      "81/81 [==============================] - 39s 479ms/step - loss: 0.7979 - accuracy: 0.6800\n",
      "Epoch 6/20\n",
      "81/81 [==============================] - 38s 467ms/step - loss: 0.7325 - accuracy: 0.7205\n",
      "Epoch 7/20\n",
      "81/81 [==============================] - 40s 494ms/step - loss: 0.6907 - accuracy: 0.7357\n",
      "Epoch 8/20\n",
      "81/81 [==============================] - 38s 473ms/step - loss: 0.6723 - accuracy: 0.7423\n",
      "Epoch 9/20\n",
      "81/81 [==============================] - 44s 538ms/step - loss: 0.6222 - accuracy: 0.7571\n",
      "Epoch 10/20\n",
      "81/81 [==============================] - 39s 482ms/step - loss: 0.5489 - accuracy: 0.7871\n",
      "Epoch 11/20\n",
      "81/81 [==============================] - 39s 476ms/step - loss: 0.5084 - accuracy: 0.8163\n",
      "Epoch 12/20\n",
      "81/81 [==============================] - 41s 507ms/step - loss: 0.4772 - accuracy: 0.8237\n",
      "Epoch 13/20\n",
      "81/81 [==============================] - 41s 506ms/step - loss: 0.4494 - accuracy: 0.8330\n",
      "Epoch 14/20\n",
      "81/81 [==============================] - 38s 465ms/step - loss: 0.3987 - accuracy: 0.8466\n",
      "Epoch 15/20\n",
      "81/81 [==============================] - 38s 464ms/step - loss: 0.3762 - accuracy: 0.8626\n",
      "Epoch 16/20\n",
      "81/81 [==============================] - 37s 458ms/step - loss: 0.3538 - accuracy: 0.8719\n",
      "Epoch 17/20\n",
      "81/81 [==============================] - 38s 464ms/step - loss: 0.3477 - accuracy: 0.8731\n",
      "Epoch 18/20\n",
      "81/81 [==============================] - 38s 464ms/step - loss: 0.3266 - accuracy: 0.8754\n",
      "Epoch 19/20\n",
      "81/81 [==============================] - 38s 463ms/step - loss: 0.2808 - accuracy: 0.8988\n",
      "Epoch 20/20\n",
      "81/81 [==============================] - 37s 458ms/step - loss: 0.2699 - accuracy: 0.9093\n"
     ]
    },
    {
     "data": {
      "text/plain": [
       "<keras.callbacks.History at 0x2301e85cdc0>"
      ]
     },
     "execution_count": 79,
     "metadata": {},
     "output_type": "execute_result"
    }
   ],
   "source": [
    "num_classes = 5\n",
    "\n",
    "model = Sequential([\n",
    "    data_augmentation,\n",
    "    layers.Conv2D(16,3, padding='same', activation='relu'),\n",
    "    layers.MaxPooling2D(),\n",
    "    layers.Conv2D(32,3, padding='same', activation='relu'),\n",
    "    layers.MaxPooling2D(),\n",
    "    layers.Conv2D(64,3, padding='same', activation='relu'),\n",
    "    layers.MaxPooling2D(),\n",
    "    layers.Flatten(),\n",
    "    layers.Dense(128, activation='relu'),\n",
    "    layers.Dense(num_classes)\n",
    "])\n",
    "\n",
    "model.compile(optimizer='adam',\n",
    "             loss=tf.keras.losses.SparseCategoricalCrossentropy(from_logits=True),\n",
    "             metrics=['accuracy'])\n",
    "model.fit(X_train_scaled, y_train, epochs=20)"
   ]
  },
  {
   "cell_type": "code",
   "execution_count": 81,
   "id": "d983d365",
   "metadata": {},
   "outputs": [
    {
     "name": "stdout",
     "output_type": "stream",
     "text": [
      "35/35 [==============================] - 4s 102ms/step - loss: 0.9754 - accuracy: 0.7112\n"
     ]
    },
    {
     "data": {
      "text/plain": [
       "[0.9753643870353699, 0.7111716866493225]"
      ]
     },
     "execution_count": 81,
     "metadata": {},
     "output_type": "execute_result"
    }
   ],
   "source": [
    "model.evaluate(X_test_scaled, y_test)"
   ]
  },
  {
   "cell_type": "markdown",
   "id": "3920c598",
   "metadata": {},
   "source": [
    "### accuracy improved"
   ]
  }
 ],
 "metadata": {
  "kernelspec": {
   "display_name": "Python 3 (ipykernel)",
   "language": "python",
   "name": "python3"
  },
  "language_info": {
   "codemirror_mode": {
    "name": "ipython",
    "version": 3
   },
   "file_extension": ".py",
   "mimetype": "text/x-python",
   "name": "python",
   "nbconvert_exporter": "python",
   "pygments_lexer": "ipython3",
   "version": "3.9.12"
  }
 },
 "nbformat": 4,
 "nbformat_minor": 5
}
